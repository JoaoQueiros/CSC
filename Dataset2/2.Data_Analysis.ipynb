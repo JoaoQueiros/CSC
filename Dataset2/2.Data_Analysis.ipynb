{
 "metadata": {
  "language_info": {
   "codemirror_mode": {
    "name": "ipython",
    "version": 3
   },
   "file_extension": ".py",
   "mimetype": "text/x-python",
   "name": "python",
   "nbconvert_exporter": "python",
   "pygments_lexer": "ipython3",
   "version": "3.7.10"
  },
  "orig_nbformat": 2,
  "kernelspec": {
   "name": "python3710jvsc74a57bd03f08865f27ed0a4eff562fa811a396e8f75cd42f79cb9b1821d0ec024e1ae81e",
   "display_name": "Python 3.7.10 64-bit ('ambiente': conda)"
  }
 },
 "nbformat": 4,
 "nbformat_minor": 2,
 "cells": [
  {
   "cell_type": "code",
   "execution_count": null,
   "metadata": {},
   "outputs": [],
   "source": [
    "import pandas as pd\n",
    "import numpy as np\n",
    "import matplotlib.pyplot as plt\n",
    "import plotly.graph_objects as go\n",
    "import seaborn as sns\n",
    "import statistics"
   ]
  },
  {
   "cell_type": "code",
   "execution_count": null,
   "metadata": {},
   "outputs": [],
   "source": [
    "dataframe = pd.read_csv('GlobalTemperatures.csv',index_col=0)"
   ]
  },
  {
   "source": [
    "* dt- date time\n",
    "* LandAverageTemperature - temperatura media no solo\n",
    "* LandAverageTemperatureUncertainty - incerteza media da temperatura no solo\n",
    "* LandMaxTemperature - Temperatura maxima no solo\n",
    "* LandMaxTemperatureUncertainty - incerteza maxima da temperatura no solo\n",
    "* LandMinTemperature - Temperatura minima no solo\n",
    "* LandMinTemperatureUncertainty - incerteza minima da temperatura no solo\n",
    "* LandAndOceanAverageTemperature - Temperatura media no solo e no oceano\n",
    "* LandAndOceanAverageTemperatureUncertainty - incerteza media da temperatura no solo e no oceano\n",
    "\n",
    "\n"
   ],
   "cell_type": "markdown",
   "metadata": {}
  },
  {
   "cell_type": "code",
   "execution_count": null,
   "metadata": {},
   "outputs": [],
   "source": [
    "dataframe.info()"
   ]
  },
  {
   "cell_type": "code",
   "execution_count": null,
   "metadata": {},
   "outputs": [],
   "source": [
    "dataframe[dataframe.duplicated() == True]"
   ]
  },
  {
   "cell_type": "code",
   "execution_count": null,
   "metadata": {},
   "outputs": [],
   "source": [
    "dataframe.isnull().sum()"
   ]
  },
  {
   "cell_type": "code",
   "execution_count": null,
   "metadata": {},
   "outputs": [],
   "source": [
    "cols = ['LandAverageTemperature','LandAverageTemperatureUncertainty','LandMaxTemperature']\n",
    "np.round(dataframe[cols].describe(), 2).T[['mean', 'std', 'min', 'max',\"25%\",\"50%\",\"75%\"]]"
   ]
  },
  {
   "cell_type": "code",
   "execution_count": null,
   "metadata": {},
   "outputs": [],
   "source": [
    "boxplot_1 = dataframe.boxplot(column=['LandAverageTemperature','LandAverageTemperatureUncertainty','LandMaxTemperature'], \n",
    "                            grid=False, rot=45, fontsize=15)\n",
    "print(boxplot_1)"
   ]
  },
  {
   "cell_type": "code",
   "execution_count": null,
   "metadata": {},
   "outputs": [],
   "source": [
    "graph_1 = dataframe['LandAverageTemperature'].plot(figsize=(10,5))\n",
    "print(graph_1)"
   ]
  },
  {
   "cell_type": "code",
   "execution_count": null,
   "metadata": {},
   "outputs": [],
   "source": [
    "graph_2 = dataframe['LandAverageTemperatureUncertainty'].plot(figsize=(10,5))\n",
    "print(graph_2)"
   ]
  },
  {
   "cell_type": "code",
   "execution_count": null,
   "metadata": {},
   "outputs": [],
   "source": [
    "graph_3 = dataframe['LandMaxTemperature'].plot(figsize=(10,5))\n",
    "print(graph_3)"
   ]
  },
  {
   "cell_type": "code",
   "execution_count": null,
   "metadata": {},
   "outputs": [],
   "source": [
    "graph_4 = dataframe['LandMaxTemperatureUncertainty'].plot(figsize=(10,5))\n",
    "print(graph_4)"
   ]
  },
  {
   "cell_type": "code",
   "execution_count": null,
   "metadata": {},
   "outputs": [],
   "source": [
    "graph_5 = dataframe['LandMinTemperature'].plot(figsize=(10,5))\n",
    "print(graph_5)"
   ]
  },
  {
   "cell_type": "code",
   "execution_count": null,
   "metadata": {},
   "outputs": [],
   "source": [
    "graph_6 = dataframe['LandMinTemperatureUncertainty'].plot(figsize=(10,5))\n",
    "print(graph_6)"
   ]
  },
  {
   "cell_type": "code",
   "execution_count": null,
   "metadata": {},
   "outputs": [],
   "source": [
    "graph_7 = dataframe['LandAndOceanAverageTemperature'].plot(figsize=(10,5))\n",
    "print(graph_7)"
   ]
  },
  {
   "cell_type": "code",
   "execution_count": null,
   "metadata": {},
   "outputs": [],
   "source": [
    "graph_8 = dataframe['LandAndOceanAverageTemperature'].plot(figsize=(10,5))\n",
    "print(graph_8)"
   ]
  },
  {
   "cell_type": "code",
   "execution_count": null,
   "metadata": {},
   "outputs": [],
   "source": [
    "graph_9 = dataframe['LandAndOceanAverageTemperatureUncertainty'].plot(figsize=(10,5))\n",
    "print(graph_9)"
   ]
  },
  {
   "cell_type": "code",
   "execution_count": null,
   "metadata": {},
   "outputs": [],
   "source": [
    "graph_10 = dataframe['LandAverageTemperature'].plot(figsize=(10,5))\n",
    "graph_10 = dataframe['LandMaxTemperature'].plot(figsize=(10,5))\n",
    "print(graph_10)"
   ]
  },
  {
   "cell_type": "code",
   "execution_count": null,
   "metadata": {},
   "outputs": [],
   "source": [
    "graph_11 = dataframe['LandAverageTemperatureUncertainty'].plot(figsize=(10,5))\n",
    "graph_11 = dataframe['LandMaxTemperatureUncertainty'].plot(figsize=(10,5))\n",
    "print(graph_11)"
   ]
  },
  {
   "cell_type": "code",
   "execution_count": null,
   "metadata": {},
   "outputs": [],
   "source": []
  }
 ]
}