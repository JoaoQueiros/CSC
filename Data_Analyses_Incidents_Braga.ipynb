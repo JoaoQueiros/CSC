{
 "cells": [
  {
   "cell_type": "markdown",
   "id": "faced-insertion",
   "metadata": {},
   "source": [
    "# Braga Incidents - Data Analysis"
   ]
  },
  {
   "cell_type": "markdown",
   "id": "accessible-onion",
   "metadata": {},
   "source": [
    "## Import Libraries"
   ]
  },
  {
   "cell_type": "code",
   "execution_count": 1,
   "id": "encouraging-bicycle",
   "metadata": {},
   "outputs": [],
   "source": [
    "import pandas as pd\n",
    "import numpy as np\n",
    "import matplotlib.pyplot as plt\n",
    "import plotly.graph_objects as go\n",
    "import seaborn as sns\n",
    "import statistics"
   ]
  },
  {
   "cell_type": "markdown",
   "id": "separated-flesh",
   "metadata": {},
   "source": [
    "## Import Dataset"
   ]
  },
  {
   "cell_type": "code",
   "execution_count": 2,
   "id": "prerequisite-video",
   "metadata": {},
   "outputs": [
    {
     "name": "stdout",
     "output_type": "stream",
     "text": [
      "  city_name         description cause_of_incident  \\\n",
      "0     Braga     queuing traffic               NaN   \n",
      "1     Braga     queuing traffic               NaN   \n",
      "2     Braga     queuing traffic               NaN   \n",
      "3     Braga  stationary traffic               NaN   \n",
      "4     Braga  stationary traffic               NaN   \n",
      "\n",
      "                                from_road  \\\n",
      "0                        Quinteiro (N103)   \n",
      "1         Rua Manuel Almeida Passos (N14)   \n",
      "2                   Braga-Circular (N101)   \n",
      "3  Avenida General Norton De Matos (N101)   \n",
      "4                           Cm1327 (N201)   \n",
      "\n",
      "                                  to_road affected_roads  \\\n",
      "0       Braga-Circular (Ferreiros) (N103)           N103   \n",
      "1      Rua Da Quinta De Santa Maria (N14)            N14   \n",
      "2  Avenida General Norton De Matos (N101)           N101   \n",
      "3                   Braga-Circular (N101)           N101   \n",
      "4               N201 (Rua De Cima) (N201)           N201   \n",
      "\n",
      "  incident_category_desc magnitude_of_delay_desc  length_in_meters  \\\n",
      "0                    Jam                Moderate               615   \n",
      "1                    Jam                Moderate              1008   \n",
      "2                    Jam                Moderate               615   \n",
      "3                    Jam                   Major               322   \n",
      "4                    Jam                   Major               208   \n",
      "\n",
      "   delay_in_seconds               incident_date   latitude  longitude  \n",
      "0               111  2019-01-15 19:05:00.065000  41.537361  -8.452289  \n",
      "1               210  2019-01-15 19:05:00.066000  41.531712  -8.440025  \n",
      "2               184  2019-01-15 19:05:00.066000  41.559666  -8.418733  \n",
      "3               232  2019-01-15 19:05:00.066000  41.557526  -8.417557  \n",
      "4               235  2019-01-15 19:05:00.066000  41.558880  -8.445529  \n"
     ]
    }
   ],
   "source": [
    "df = pd.read_csv('Traffic_Incidents_Braga_Until_20191231.csv')\n",
    "print(df.head(5))"
   ]
  },
  {
   "cell_type": "markdown",
   "id": "internal-costs",
   "metadata": {},
   "source": [
    "## Data Quality"
   ]
  },
  {
   "cell_type": "code",
   "execution_count": 3,
   "id": "provincial-alabama",
   "metadata": {},
   "outputs": [
    {
     "name": "stdout",
     "output_type": "stream",
     "text": [
      "<class 'pandas.core.frame.DataFrame'>\n",
      "RangeIndex: 83347 entries, 0 to 83346\n",
      "Data columns (total 13 columns):\n",
      " #   Column                   Non-Null Count  Dtype  \n",
      "---  ------                   --------------  -----  \n",
      " 0   city_name                83347 non-null  object \n",
      " 1   description              83347 non-null  object \n",
      " 2   cause_of_incident        426 non-null    object \n",
      " 3   from_road                83347 non-null  object \n",
      " 4   to_road                  83347 non-null  object \n",
      " 5   affected_roads           40981 non-null  object \n",
      " 6   incident_category_desc   83347 non-null  object \n",
      " 7   magnitude_of_delay_desc  83347 non-null  object \n",
      " 8   length_in_meters         83347 non-null  int64  \n",
      " 9   delay_in_seconds         83347 non-null  int64  \n",
      " 10  incident_date            83347 non-null  object \n",
      " 11  latitude                 83347 non-null  float64\n",
      " 12  longitude                83347 non-null  float64\n",
      "dtypes: float64(2), int64(2), object(9)\n",
      "memory usage: 8.3+ MB\n"
     ]
    }
   ],
   "source": [
    "df.info()"
   ]
  },
  {
   "cell_type": "code",
   "execution_count": 4,
   "id": "engaged-vacuum",
   "metadata": {},
   "outputs": [
    {
     "data": {
      "text/plain": [
       "city_name                  290\n",
       "description                290\n",
       "cause_of_incident            0\n",
       "from_road                  290\n",
       "to_road                    290\n",
       "affected_roads             166\n",
       "incident_category_desc     290\n",
       "magnitude_of_delay_desc    290\n",
       "length_in_meters           290\n",
       "delay_in_seconds           290\n",
       "incident_date              290\n",
       "latitude                   290\n",
       "longitude                  290\n",
       "dtype: int64"
      ]
     },
     "execution_count": 4,
     "metadata": {},
     "output_type": "execute_result"
    }
   ],
   "source": [
    "#Ver se existe alguma row duplicada no dataset\n",
    "df[df.duplicated(subset=None, keep=False) == True].count()"
   ]
  },
  {
   "cell_type": "code",
   "execution_count": 5,
   "id": "palestinian-understanding",
   "metadata": {},
   "outputs": [
    {
     "data": {
      "text/plain": [
       "city_name                      0\n",
       "description                    0\n",
       "cause_of_incident          82921\n",
       "from_road                      0\n",
       "to_road                        0\n",
       "affected_roads             42366\n",
       "incident_category_desc         0\n",
       "magnitude_of_delay_desc        0\n",
       "length_in_meters               0\n",
       "delay_in_seconds               0\n",
       "incident_date                  0\n",
       "latitude                       0\n",
       "longitude                      0\n",
       "dtype: int64"
      ]
     },
     "execution_count": 5,
     "metadata": {},
     "output_type": "execute_result"
    }
   ],
   "source": [
    "#ver missing values dentro do dataset\n",
    "df.isnull().sum()"
   ]
  },
  {
   "cell_type": "markdown",
   "id": "innovative-rental",
   "metadata": {},
   "source": [
    "## Exploration Data"
   ]
  },
  {
   "cell_type": "code",
   "execution_count": 6,
   "id": "convertible-abuse",
   "metadata": {},
   "outputs": [
    {
     "data": {
      "text/html": [
       "<div>\n",
       "<style scoped>\n",
       "    .dataframe tbody tr th:only-of-type {\n",
       "        vertical-align: middle;\n",
       "    }\n",
       "\n",
       "    .dataframe tbody tr th {\n",
       "        vertical-align: top;\n",
       "    }\n",
       "\n",
       "    .dataframe thead th {\n",
       "        text-align: right;\n",
       "    }\n",
       "</style>\n",
       "<table border=\"1\" class=\"dataframe\">\n",
       "  <thead>\n",
       "    <tr style=\"text-align: right;\">\n",
       "      <th></th>\n",
       "      <th>mean</th>\n",
       "      <th>std</th>\n",
       "      <th>min</th>\n",
       "      <th>max</th>\n",
       "      <th>25%</th>\n",
       "      <th>50%</th>\n",
       "      <th>75%</th>\n",
       "    </tr>\n",
       "  </thead>\n",
       "  <tbody>\n",
       "    <tr>\n",
       "      <th>length_in_meters</th>\n",
       "      <td>2439.61</td>\n",
       "      <td>192698.10</td>\n",
       "      <td>14.00</td>\n",
       "      <td>19670230.00</td>\n",
       "      <td>234.00</td>\n",
       "      <td>456.00</td>\n",
       "      <td>848.00</td>\n",
       "    </tr>\n",
       "    <tr>\n",
       "      <th>delay_in_seconds</th>\n",
       "      <td>143.73</td>\n",
       "      <td>168.62</td>\n",
       "      <td>0.00</td>\n",
       "      <td>5176.00</td>\n",
       "      <td>0.00</td>\n",
       "      <td>129.00</td>\n",
       "      <td>210.00</td>\n",
       "    </tr>\n",
       "    <tr>\n",
       "      <th>latitude</th>\n",
       "      <td>41.55</td>\n",
       "      <td>0.02</td>\n",
       "      <td>41.48</td>\n",
       "      <td>42.37</td>\n",
       "      <td>41.54</td>\n",
       "      <td>41.55</td>\n",
       "      <td>41.56</td>\n",
       "    </tr>\n",
       "    <tr>\n",
       "      <th>longitude</th>\n",
       "      <td>-8.43</td>\n",
       "      <td>1.03</td>\n",
       "      <td>-87.90</td>\n",
       "      <td>-8.37</td>\n",
       "      <td>-8.43</td>\n",
       "      <td>-8.42</td>\n",
       "      <td>-8.40</td>\n",
       "    </tr>\n",
       "  </tbody>\n",
       "</table>\n",
       "</div>"
      ],
      "text/plain": [
       "                     mean        std    min          max     25%     50%  \\\n",
       "length_in_meters  2439.61  192698.10  14.00  19670230.00  234.00  456.00   \n",
       "delay_in_seconds   143.73     168.62   0.00      5176.00    0.00  129.00   \n",
       "latitude            41.55       0.02  41.48        42.37   41.54   41.55   \n",
       "longitude           -8.43       1.03 -87.90        -8.37   -8.43   -8.42   \n",
       "\n",
       "                     75%  \n",
       "length_in_meters  848.00  \n",
       "delay_in_seconds  210.00  \n",
       "latitude           41.56  \n",
       "longitude          -8.40  "
      ]
     },
     "execution_count": 6,
     "metadata": {},
     "output_type": "execute_result"
    }
   ],
   "source": [
    "cols = ['length_in_meters','delay_in_seconds','latitude','longitude']\n",
    "np.round(df[cols].describe(), 2).T[['mean', 'std', 'min', 'max',\"25%\",\"50%\",\"75%\"]]"
   ]
  },
  {
   "cell_type": "markdown",
   "id": "challenging-destiny",
   "metadata": {},
   "source": [
    "## Magnitude of Delay"
   ]
  },
  {
   "cell_type": "code",
   "execution_count": 7,
   "id": "fifty-combination",
   "metadata": {},
   "outputs": [
    {
     "data": {
      "image/png": "[encoded data removed]",
      "text/plain": [
       "<Figure size 432x288 with 1 Axes>"
      ]
     },
     "metadata": {
      "needs_background": "light"
     },
     "output_type": "display_data"
    }
   ],
   "source": [
    "MD1 = df[df['magnitude_of_delay_desc']=='Moderate']\n",
    "MD1 = MD1['magnitude_of_delay_desc'].count()\n",
    "MD2 = df[df['magnitude_of_delay_desc']=='Major']\n",
    "MD2 = MD2['magnitude_of_delay_desc'].count()\n",
    "MD3 = df[df['magnitude_of_delay_desc']=='Minor']\n",
    "MD3 = MD3['magnitude_of_delay_desc'].count()\n",
    "MD4 = df[df['magnitude_of_delay_desc']=='Undefined']\n",
    "MD4 = MD4['magnitude_of_delay_desc'].count()\n",
    "MD5 = df[df['magnitude_of_delay_desc']=='Unknown Delay']\n",
    "MD5 = MD5['magnitude_of_delay_desc'].count()\n",
    "\n",
    "objects = ('Moderate', 'Major','Minor','Undefined','Unknown Delay')\n",
    "Count = [MD1, MD2, MD3, MD4, MD5]\n",
    "y_pos = np.arange(len(objects))\n",
    "\n",
    "plt.bar(objects, Count)\n",
    "plt.xticks(y_pos, objects)\n",
    "plt.ylabel('Count')\n",
    "plt.title('Magnitude of Delay Distribution')\n",
    "\n",
    "\n",
    "for index,data in enumerate(Count):\n",
    "    plt.text(x=index , y =data+1 , s=f\"{data}\" , fontdict=dict(fontsize=20))\n",
    "\n",
    "plt.show()"
   ]
  },
  {
   "cell_type": "code",
   "execution_count": 8,
   "id": "contained-income",
   "metadata": {},
   "outputs": [
    {
     "name": "stdout",
     "output_type": "stream",
     "text": [
      "Moderate Probability: 12.24 %\n",
      "Major Probability: 47.57 %\n",
      "Minor Probability: 6.25 %\n",
      "Undefined Probability: 29.05 %\n",
      "Unknown Probability: 4.88 %\n"
     ]
    }
   ],
   "source": [
    "alll = MD1 + MD2 + MD3 + MD4 + MD5\n",
    "print(\"Moderate Probability:\", round(MD1/(alll)*100,2),\"%\")\n",
    "print(\"Major Probability:\", round(MD2/(alll)*100,2),\"%\")\n",
    "print(\"Minor Probability:\", round(MD3/(alll)*100,2),\"%\")\n",
    "print(\"Undefined Probability:\", round(MD4/(alll)*100,2),\"%\")\n",
    "print(\"Unknown Probability:\", round(MD5/(alll)*100,2),\"%\")"
   ]
  },
  {
   "cell_type": "markdown",
   "id": "vanilla-tablet",
   "metadata": {},
   "source": [
    "## Length in Meters"
   ]
  },
  {
   "cell_type": "code",
   "execution_count": 9,
   "id": "diverse-aging",
   "metadata": {},
   "outputs": [
    {
     "data": {
      "image/png": "[encoded data removed]",
      "text/plain": [
       "<Figure size 432x288 with 1 Axes>"
      ]
     },
     "metadata": {},
     "output_type": "display_data"
    }
   ],
   "source": [
    "sns.set_theme(style=\"whitegrid\")\n",
    "tips = df\n",
    "ax = sns.boxplot(x=tips[\"length_in_meters\"])"
   ]
  },
  {
   "cell_type": "code",
   "execution_count": 10,
   "id": "upset-subject",
   "metadata": {},
   "outputs": [
    {
     "data": {
      "image/png": "[encoded data removed]",
      "text/plain": [
       "<Figure size 432x288 with 1 Axes>"
      ]
     },
     "metadata": {},
     "output_type": "display_data"
    }
   ],
   "source": [
    "Q1 = df['length_in_meters'].quantile(0.25)\n",
    "Q3 = df['length_in_meters'].quantile(0.75)\n",
    "IQR = Q3 - Q1    #IQR is interquartile range. \n",
    "\n",
    "filter = (df['length_in_meters'] >= Q1 - 1.5 * IQR) & (df['length_in_meters'] <= Q3 + 1.5 *IQR)\n",
    "#boxplot_1 = df.loc[filter].boxplot(column=['length_in_meters'])\n",
    "#print(boxplot_1)  \n",
    "\n",
    "sns.set_theme(style=\"whitegrid\")\n",
    "tips2 = df.loc[filter]\n",
    "ax = sns.boxplot(x=tips2[\"length_in_meters\"])"
   ]
  },
  {
   "cell_type": "markdown",
   "id": "expressed-hungary",
   "metadata": {},
   "source": [
    "## Length in Meters by Magnitude of Delay"
   ]
  },
  {
   "cell_type": "code",
   "execution_count": 11,
   "id": "educated-cricket",
   "metadata": {},
   "outputs": [
    {
     "name": "stdout",
     "output_type": "stream",
     "text": [
      "AxesSubplot(0.125,0.125;0.775x0.755)\n"
     ]
    },
    {
     "data": {
      "image/png": "[encoded data removed]",
      "text/plain": [
       "<Figure size 432x288 with 1 Axes>"
      ]
     },
     "metadata": {},
     "output_type": "display_data"
    }
   ],
   "source": [
    "ax = sns.boxplot(x=\"magnitude_of_delay_desc\", y=\"length_in_meters\", data=tips2)\n",
    "print(ax)"
   ]
  },
  {
   "cell_type": "markdown",
   "id": "cognitive-legislature",
   "metadata": {},
   "source": [
    "## Delay in Seconds by Magnitude of Delay"
   ]
  },
  {
   "cell_type": "code",
   "execution_count": 12,
   "id": "turned-gamma",
   "metadata": {},
   "outputs": [
    {
     "data": {
      "image/png": "[encoded data removed]",
      "text/plain": [
       "<Figure size 432x288 with 1 Axes>"
      ]
     },
     "metadata": {},
     "output_type": "display_data"
    }
   ],
   "source": [
    "sns.set_theme(style=\"whitegrid\")\n",
    "tips = df\n",
    "ax = sns.boxplot(x=tips[\"delay_in_seconds\"])"
   ]
  },
  {
   "cell_type": "code",
   "execution_count": 13,
   "id": "rural-launch",
   "metadata": {},
   "outputs": [
    {
     "name": "stdout",
     "output_type": "stream",
     "text": [
      "AxesSubplot(0.125,0.125;0.775x0.755)\n"
     ]
    },
    {
     "data": {
      "image/png": "[encoded data removed]",
      "text/plain": [
       "<Figure size 432x288 with 1 Axes>"
      ]
     },
     "metadata": {},
     "output_type": "display_data"
    }
   ],
   "source": [
    "ax = sns.boxplot(x=\"magnitude_of_delay_desc\", y=\"delay_in_seconds\", data=tips2)\n",
    "print(ax)"
   ]
  },
  {
   "cell_type": "code",
   "execution_count": 14,
   "id": "genetic-synthetic",
   "metadata": {},
   "outputs": [
    {
     "data": {
      "image/png": "[encoded data removed]",
      "text/plain": [
       "<Figure size 432x288 with 1 Axes>"
      ]
     },
     "metadata": {},
     "output_type": "display_data"
    }
   ],
   "source": [
    "Q1 = df['delay_in_seconds'].quantile(0.25)\n",
    "Q3 = df['delay_in_seconds'].quantile(0.75)\n",
    "IQR = Q3 - Q1    #IQR is interquartile range. \n",
    "\n",
    "filter = (df['delay_in_seconds'] >= Q1 - 1.5 * IQR) & (df['delay_in_seconds'] <= Q3 + 1.5 *IQR)\n",
    "#boxplot_1 = df.loc[filter].boxplot(column=['length_in_meters'])\n",
    "#print(boxplot_1)  \n",
    "\n",
    "sns.set_theme(style=\"whitegrid\")\n",
    "tips2 = df.loc[filter]\n",
    "ax = sns.boxplot(x=tips2[\"delay_in_seconds\"])"
   ]
  },
  {
   "cell_type": "code",
   "execution_count": 15,
   "id": "generous-grass",
   "metadata": {},
   "outputs": [
    {
     "name": "stdout",
     "output_type": "stream",
     "text": [
      "AxesSubplot(0.125,0.125;0.775x0.755)\n"
     ]
    },
    {
     "data": {
      "image/png": "[encoded data removed]",
      "text/plain": [
       "<Figure size 432x288 with 1 Axes>"
      ]
     },
     "metadata": {},
     "output_type": "display_data"
    }
   ],
   "source": [
    "ax = sns.boxplot(x=\"magnitude_of_delay_desc\", y=\"delay_in_seconds\", data=tips2)\n",
    "print(ax)"
   ]
  },
  {
   "cell_type": "code",
   "execution_count": null,
   "id": "diagnostic-interface",
   "metadata": {},
   "outputs": [],
   "source": []
  }
 ],
 "metadata": {
  "kernelspec": {
   "display_name": "Python 3",
   "language": "python",
   "name": "python3"
  },
  "language_info": {
   "codemirror_mode": {
    "name": "ipython",
    "version": 3
   },
   "file_extension": ".py",
   "mimetype": "text/x-python",
   "name": "python",
   "nbconvert_exporter": "python",
   "pygments_lexer": "ipython3",
   "version": "3.8.8"
  }
 },
 "nbformat": 4,
 "nbformat_minor": 5
}
